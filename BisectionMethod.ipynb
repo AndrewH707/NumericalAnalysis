{
  "nbformat": 4,
  "nbformat_minor": 0,
  "metadata": {
    "colab": {
      "name": "BisectionMethod.ipynb",
      "provenance": [],
      "authorship_tag": "ABX9TyN4wceqiU4FNfQ+ACW9YJp4",
      "include_colab_link": true
    },
    "kernelspec": {
      "name": "python3",
      "display_name": "Python 3"
    },
    "language_info": {
      "name": "python"
    }
  },
  "cells": [
    {
      "cell_type": "markdown",
      "metadata": {
        "id": "view-in-github",
        "colab_type": "text"
      },
      "source": [
        "<a href=\"https://colab.research.google.com/github/AndrewH707/NumericalAnalysis/blob/main/BisectionMethod.ipynb\" target=\"_parent\"><img src=\"https://colab.research.google.com/assets/colab-badge.svg\" alt=\"Open In Colab\"/></a>"
      ]
    },
    {
      "cell_type": "markdown",
      "metadata": {
        "id": "wi7Ad9JH0V5F"
      },
      "source": [
        "The **Bisection Algorithm** below can be used to approximate roots of continous functions given an interval a-b. The algorithm first checks the left half of the interval, and then the right if the root was not found on the left side. At each interation, the interval between a and b is halved, ensuring the method eventually approximates the solution. This method is useful for when it is difficult to formulate an exact solution for the roots of a given function. The algorithm stops once the function value at the center of the inverval is less than some value epsilon. "
      ]
    },
    {
      "cell_type": "code",
      "metadata": {
        "id": "e-3YqV1CsWxm"
      },
      "source": [
        "import numpy as np"
      ],
      "execution_count": null,
      "outputs": []
    },
    {
      "cell_type": "code",
      "metadata": {
        "id": "4Jr0488S5BKx"
      },
      "source": [
        "def bisection(a, b, f, epsilon):\n",
        "  \n",
        "  if f(a)*f(b) >= 0: #if there is no root between interval\n",
        "    print(\"sign of function value does not change in interval: \", a,\"-\", b)\n",
        "    return\n",
        "  current_a = a\n",
        "  current_b = b\n",
        "  n = 1 #keep a counter to see what iteration were on\n",
        "  mid = (current_a + current_b)/2\n",
        "\n",
        "  while (np.abs(f(mid)) >= epsilon):\n",
        "    if (f(current_a)*f(mid)) < 0: # root is on left half of interval\n",
        "      current_b = mid\n",
        "      mid = (current_a + current_b)/2\n",
        "      n = n+1\n",
        "\n",
        "    elif f(current_b)*f(mid) < 0: #root is on the right half of interval\n",
        "      current_a = mid\n",
        "      mid = (current_a + current_b)/2\n",
        "      n = n+1\n",
        "\n",
        "    elif f_mid == 0: #root is found\n",
        "      print(\"Exact solution found at x = \", mid)\n",
        "      print(\"Current N:\", n)\n",
        "      return \n",
        "    else:\n",
        "      print(\"The bisection method has failed\")\n",
        "      return\n",
        "\n",
        "  return mid, n\n",
        "  \n",
        "    \n",
        "\n"
      ],
      "execution_count": null,
      "outputs": []
    },
    {
      "cell_type": "code",
      "metadata": {
        "colab": {
          "base_uri": "https://localhost:8080/"
        },
        "id": "nxdjxQM-gBoo",
        "outputId": "56d58798-e8cd-4df3-c1a9-cdfcabf159cc"
      },
      "source": [
        "# ex 1\n",
        "f1 = lambda x: 1/x - np.tan(x)\n",
        "print(bisection(0.1, np.pi/2, f1, 10**-7)) \n",
        "#returns approximation of root and number of iterations"
      ],
      "execution_count": null,
      "outputs": [
        {
          "output_type": "stream",
          "text": [
            "(0.8603336129981589, 22)\n"
          ],
          "name": "stdout"
        }
      ]
    },
    {
      "cell_type": "code",
      "metadata": {
        "colab": {
          "base_uri": "https://localhost:8080/"
        },
        "id": "L6vQKbIDiRcG",
        "outputId": "103d2103-06b9-4fc6-e70e-e5d73d8b5c6c"
      },
      "source": [
        "# ex 2\n",
        "f2 = lambda x: 1/x - np.power(2, x)\n",
        "print(bisection(0.1, 1, f2, 10**-7))\n",
        "#returns approximation of root and number of iterations"
      ],
      "execution_count": null,
      "outputs": [
        {
          "output_type": "stream",
          "text": [
            "(0.641185772418976, 23)\n"
          ],
          "name": "stdout"
        }
      ]
    }
  ]
}